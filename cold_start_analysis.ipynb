{
 "cells": [
  {
   "cell_type": "code",
   "execution_count": 2,
   "id": "e1760266-e192-4241-9e8e-687f8052c185",
   "metadata": {},
   "outputs": [],
   "source": [
    "import pickle\n",
    "import os\n",
    "import pandas as pd\n",
    "from surprise import SVD, SVDpp\n",
    "from surprise import KNNBasic, KNNBaseline, BaselineOnly\n",
    "from surprise import Dataset                                                     \n",
    "from surprise import Reader                                                      \n",
    "from surprise import dump\n",
    "from surprise.accuracy import rmse"
   ]
  },
  {
   "cell_type": "code",
   "execution_count": 3,
   "id": "695f72f6-3415-42dc-a722-6e70a8752dbd",
   "metadata": {},
   "outputs": [],
   "source": [
    "def convert_traintest_dataframe_forsurprise(training_dataframe, testing_dataframe):\n",
    "    reader = Reader(rating_scale=(0, 5))\n",
    "    trainset = Dataset.load_from_df(training_dataframe[['userId', 'movieId', 'rating']], reader)\n",
    "    testset = Dataset.load_from_df(testing_dataframe[['userId', 'movieId', 'rating']], reader)\n",
    "    trainset = trainset.construct_trainset(trainset.raw_ratings)\n",
    "    testset = testset.construct_testset(testset.raw_ratings)\n",
    "    return trainset, testset"
   ]
  },
  {
   "cell_type": "code",
   "execution_count": 4,
   "id": "850eda0b-5f41-45e5-a194-2e193a47571b",
   "metadata": {},
   "outputs": [],
   "source": [
    "file_path_train = './data/train.csv'\n",
    "file_path_test = './data/test.csv'\n",
    "traindf = pd.read_csv(file_path_train)\n",
    "testdf = pd.read_csv(file_path_test)\n",
    "trainset, testset = convert_traintest_dataframe_forsurprise(traindf, testdf)"
   ]
  },
  {
   "cell_type": "code",
   "execution_count": 5,
   "id": "e54c9235-499a-49f1-90c5-f73f56aab91d",
   "metadata": {},
   "outputs": [
    {
     "name": "stdout",
     "output_type": "stream",
     "text": [
      "   userId  movieId  rating  timestamp  \\\n",
      "0       1        1     4.0  964982703   \n",
      "1       1        3     4.0  964981247   \n",
      "2       1        6     4.0  964982224   \n",
      "3       1       70     3.0  964982400   \n",
      "4       1      101     5.0  964980868   \n",
      "\n",
      "                                              genres tag  \n",
      "0  ['Adventure', 'Animation', 'Children', 'Comedy...  []  \n",
      "1                              ['Comedy', 'Romance']  []  \n",
      "2                    ['Action', 'Crime', 'Thriller']  []  \n",
      "3         ['Action', 'Comedy', 'Horror', 'Thriller']  []  \n",
      "4        ['Adventure', 'Comedy', 'Crime', 'Romance']  []  \n"
     ]
    }
   ],
   "source": [
    "print(traindf.head())"
   ]
  },
  {
   "cell_type": "code",
   "execution_count": 6,
   "id": "64e21457-47d5-49a5-ab09-551ca36d135d",
   "metadata": {},
   "outputs": [
    {
     "name": "stdout",
     "output_type": "stream",
     "text": [
      "Computing the msd similarity matrix...\n",
      "Done computing similarity matrix.\n"
     ]
    }
   ],
   "source": [
    "algo_svd = SVD()     \n",
    "algo_svdpp = SVDpp()                                    \n",
    "algo_knn = KNNBasic()\n",
    "\n",
    "algo_svd.fit(trainset)                             \n",
    "predictions_svd = algo_svd.test(testset)\n",
    "\n",
    "algo_svdpp.fit(trainset)                             \n",
    "predictions_svdpp = algo_svdpp.test(testset)\n",
    "\n",
    "algo_knn.fit(trainset)\n",
    "predictions_knn = algo_knn.test(testset)\n",
    "\n",
    "# rmse(predictions_svd)\n",
    "# rmse(predictions_knn)                                                                           \n",
    "\n",
    "dump.dump('./dump_SVD', predictions_svd, algo_svd)\n",
    "dump.dump('./dump_SVDpp', predictions_svdpp, algo_svdpp)\n",
    "dump.dump('./dump_KNN', predictions_knn, algo_knn)"
   ]
  },
  {
   "cell_type": "code",
   "execution_count": 7,
   "id": "115c3dc1-da73-42fb-84cf-de007aa52386",
   "metadata": {},
   "outputs": [],
   "source": [
    "df_svd = pd.DataFrame(predictions_svd, columns=['uid', 'iid', 'rui', 'est', 'details']) \n",
    "df_svdpp = pd.DataFrame(predictions_svdpp, columns=['uid', 'iid', 'rui', 'est', 'details'])        \n",
    "df_knn = pd.DataFrame(predictions_knn, columns=['uid', 'iid', 'rui', 'est', 'details']) "
   ]
  },
  {
   "cell_type": "code",
   "execution_count": 8,
   "id": "016c3cc3-4d6e-41cb-88e6-4c217f225570",
   "metadata": {},
   "outputs": [
    {
     "name": "stdout",
     "output_type": "stream",
     "text": [
      "Estimating biases using als...\n",
      "Computing the pearson_baseline similarity matrix...\n",
      "Done computing similarity matrix.\n"
     ]
    }
   ],
   "source": [
    "sim_options = {'name': 'pearson_baseline',\n",
    "               'user_based': False  # compute  similarities between items\n",
    "               }\n",
    "# algo = KNNBaseline(sim_options=sim_options)\n",
    "algo_knnbaseline = KNNBaseline(sim_options=sim_options)\n",
    "algo_knnbaseline.fit(trainset)\n",
    "predictions_knnbaseline = algo_knnbaseline.test(testset)"
   ]
  },
  {
   "cell_type": "code",
   "execution_count": 9,
   "id": "7eeb726c-fd85-4bca-a9bf-a8b904b3001c",
   "metadata": {},
   "outputs": [],
   "source": [
    "df_knnbaseline = pd.DataFrame(predictions_knnbaseline, columns=['uid', 'iid', 'rui', 'est', 'details']) \n",
    "df_knnbaseline['err'] = abs(df_knnbaseline.est - df_knnbaseline.rui)\n",
    "df_knnbaseline['sqr_err'] = (df_knnbaseline.est - df_knnbaseline.rui)**2"
   ]
  },
  {
   "cell_type": "code",
   "execution_count": 10,
   "id": "d8d5679a-282e-441b-9233-d30da2edad7b",
   "metadata": {},
   "outputs": [],
   "source": [
    "df_svd['err'] = abs(df_svd.est - df_svd.rui)\n",
    "df_svdpp['err'] = abs(df_svdpp.est - df_svdpp.rui)\n",
    "df_knn['err'] = abs(df_knn.est - df_knn.rui)     "
   ]
  },
  {
   "cell_type": "code",
   "execution_count": 11,
   "id": "54c930b2-7819-472b-aaad-233c8867974e",
   "metadata": {},
   "outputs": [],
   "source": [
    "df_svd['sqr_err'] = (df_svd.est - df_svd.rui)**2\n",
    "df_svdpp['sqr_err'] = (df_svdpp.est - df_svdpp.rui)**2\n",
    "df_knn['sqr_err'] = (df_knn.est - df_knn.rui)**2  "
   ]
  },
  {
   "cell_type": "code",
   "execution_count": 12,
   "id": "480bb926-f3a9-4411-b7dc-3f8987778812",
   "metadata": {},
   "outputs": [
    {
     "name": "stdout",
     "output_type": "stream",
     "text": [
      "Estimating biases using als...\n"
     ]
    }
   ],
   "source": [
    "algo_baselineonly = BaselineOnly()\n",
    "algo_baselineonly.fit(trainset)\n",
    "predictions_baselineonly = algo_baselineonly.test(testset)"
   ]
  },
  {
   "cell_type": "code",
   "execution_count": 13,
   "id": "925846bf-542f-4224-8eca-b571abf314c8",
   "metadata": {},
   "outputs": [],
   "source": [
    "def get_Iu(uid):\n",
    "    \"\"\"Return the number of items rated by given user\n",
    "    \n",
    "    Args:\n",
    "        uid: The raw id of the user.\n",
    "    Returns:\n",
    "        The number of items rated by the user.\n",
    "    \"\"\"\n",
    "    \n",
    "    try:\n",
    "        return traindf[traindf['userId'] == uid].shape[0]\n",
    "    except ValueError:  # user was not part of the trainset\n",
    "        return 0"
   ]
  },
  {
   "cell_type": "code",
   "execution_count": 14,
   "id": "5ad5229d-4f74-4543-8348-b57362275247",
   "metadata": {},
   "outputs": [],
   "source": [
    "df_baselineonly = pd.DataFrame(predictions_baselineonly, columns=['uid', 'iid', 'rui', 'est', 'details']) \n",
    "df_baselineonly['err'] = abs(df_baselineonly.est - df_baselineonly.rui)\n",
    "df_baselineonly['sqr_err'] = (df_baselineonly.est - df_baselineonly.rui)**2\n",
    "df_baselineonly['Iu'] = df_baselineonly.uid.apply(get_Iu)"
   ]
  },
  {
   "cell_type": "code",
   "execution_count": 15,
   "id": "27cdd493-607f-49bd-8c22-51d28e452476",
   "metadata": {},
   "outputs": [
    {
     "name": "stdout",
     "output_type": "stream",
     "text": [
      "Estimating biases using als...\n",
      "Computing the pearson_baseline similarity matrix...\n",
      "Done computing similarity matrix.\n"
     ]
    }
   ],
   "source": [
    "sim_options = {'name': 'pearson_baseline',\n",
    "               'user_based': True  # compute  similarities between items\n",
    "               }\n",
    "algo_knnbaseline_user = KNNBaseline(sim_options=sim_options)\n",
    "algo_knnbaseline_user.fit(trainset)\n",
    "predictions_knnbaseline_user = algo_knnbaseline_user.test(testset)\n",
    "\n",
    "df_knn_user = pd.DataFrame(predictions_knnbaseline_user, columns=['uid', 'iid', 'rui', 'est', 'details']) \n",
    "df_knn_user['err'] = abs(df_knn_user.est - df_knn_user.rui)\n",
    "df_knn_user['sqr_err'] = (df_knn_user.est - df_knn_user.rui)**2\n",
    "df_knn_user['Iu'] = df_knn_user.uid.apply(get_Iu)"
   ]
  },
  {
   "cell_type": "code",
   "execution_count": 16,
   "id": "92c0e9da-d4a2-4700-a0f8-1f1a8fd1a960",
   "metadata": {},
   "outputs": [],
   "source": [
    "#df_svd.head()\n",
    "content = pd.read_csv('./data/movie_era_based_genre_ratings.csv')"
   ]
  },
  {
   "cell_type": "code",
   "execution_count": 17,
   "id": "45d8e68e-f603-41c5-8733-5e92e555cf0c",
   "metadata": {},
   "outputs": [],
   "source": [
    "content['Iu'] = content.userId.apply(get_Iu)"
   ]
  },
  {
   "cell_type": "code",
   "execution_count": 18,
   "id": "753b136f-8865-4f95-92ad-ffe707b5454f",
   "metadata": {},
   "outputs": [],
   "source": [
    "content['err'] = abs(content.pred_rating - content.og_rating)\n",
    "content['sqr_err'] = (content.pred_rating - content.og_rating)**2\n",
    "# rmse = ((algo_predictions.og_rating - algo_predictions.pred_rating) ** 2).mean() ** .5\n",
    "# mae = (((algo_predictions.og_rating - algo_predictions.pred_rating) ** 2) ** .5).mean()"
   ]
  },
  {
   "cell_type": "code",
   "execution_count": 19,
   "id": "8240fe65-af5e-4f14-9124-7aaaaed3b988",
   "metadata": {},
   "outputs": [
    {
     "name": "stdout",
     "output_type": "stream",
     "text": [
      "Movie Era based                  7.981078721545614\n",
      "Movie Era based                 8.371531888942888\n"
     ]
    }
   ],
   "source": [
    "print(\"Movie Era based                 \",content[content.Iu < 18].err.mean())\n",
    "print(\"Movie Era based                \",content[content.Iu < 18].sqr_err.mean()** .5)"
   ]
  },
  {
   "cell_type": "code",
   "execution_count": 20,
   "id": "f15c63ac-dd76-4e5e-9be3-4d45ed331f23",
   "metadata": {},
   "outputs": [],
   "source": [
    "content = pd.read_csv('./data/movie_year_based_genre_ratings.csv')\n",
    "content['Iu'] = content.userId.apply(get_Iu)\n",
    "content['err'] = abs(content.pred_rating - content.og_rating)\n",
    "content['sqr_err'] = (content.pred_rating - content.og_rating)**2\n",
    "# rmse = ((algo_predictions.og_rating - algo_predictions.pred_rating) ** 2).mean() ** .5\n",
    "# mae = (((algo_predictions.og_rating - algo_predictions.pred_rating) ** 2) ** .5).mean()"
   ]
  },
  {
   "cell_type": "code",
   "execution_count": 21,
   "id": "efc49aff-59ae-4ebc-a834-6beb85a26bb2",
   "metadata": {},
   "outputs": [
    {
     "name": "stdout",
     "output_type": "stream",
     "text": [
      "Movie Year based                  0.9339830889246196\n",
      "Movie Year based                 1.2688832561653924\n"
     ]
    }
   ],
   "source": [
    "print(\"Movie Year based                 \",content[content.Iu < 18].err.mean())\n",
    "print(\"Movie Year based                \",content[content.Iu < 18].sqr_err.mean()** .5)"
   ]
  },
  {
   "cell_type": "code",
   "execution_count": 22,
   "id": "386cfe04-94ae-43df-8774-c47e537229f7",
   "metadata": {},
   "outputs": [],
   "source": [
    "content = pd.read_csv('./data/content_based_genre_ratings.csv')\n",
    "content['Iu'] = content.userId.apply(get_Iu)\n",
    "content['err'] = abs(content.pred_rating - content.og_rating)\n",
    "content['sqr_err'] = (content.pred_rating - content.og_rating)**2\n",
    "# rmse = ((algo_predictions.og_rating - algo_predictions.pred_rating) ** 2).mean() ** .5\n",
    "# mae = (((algo_predictions.og_rating - algo_predictions.pred_rating) ** 2) ** .5).mean()"
   ]
  },
  {
   "cell_type": "code",
   "execution_count": 23,
   "id": "6171cb48-cc3e-4fb1-89a7-cb6d2bc346ff",
   "metadata": {},
   "outputs": [
    {
     "name": "stdout",
     "output_type": "stream",
     "text": [
      "Content based                  0.827501672245648\n",
      "Content based                 1.100062700607275\n"
     ]
    }
   ],
   "source": [
    "print(\"Content based                 \",content[content.Iu < 18].err.mean())\n",
    "print(\"Content based                \",content[content.Iu < 18].sqr_err.mean()** .5)"
   ]
  },
  {
   "cell_type": "code",
   "execution_count": 24,
   "id": "a5498fc3-fb1d-47de-bde0-82a0bd7c1673",
   "metadata": {},
   "outputs": [],
   "source": [
    "df_knn['Iu'] = df_knn.uid.apply(get_Iu)\n",
    "df_svd['Iu'] = df_svd.uid.apply(get_Iu)\n",
    "df_svdpp['Iu'] = df_svdpp.uid.apply(get_Iu)\n",
    "df_knnbaseline['Iu'] = df_knnbaseline.uid.apply(get_Iu)"
   ]
  },
  {
   "cell_type": "code",
   "execution_count": 25,
   "id": "850d06fc-8898-4a2b-9646-cfc1495928ec",
   "metadata": {},
   "outputs": [
    {
     "name": "stdout",
     "output_type": "stream",
     "text": [
      "--------------------------MAE-----------------------\n",
      "KNN Basic                  0.860741703497014\n",
      "SVD                        0.78570893327357\n",
      "SVDpp                      0.7690157799172334\n",
      "KNN Baseline (item-item)   0.7737077437833596\n",
      "BaselineOnly               0.8010726412517467\n",
      "KNN Baseline (user-user)   0.8012690404978389\n"
     ]
    }
   ],
   "source": [
    "print(\"--------------------------MAE-----------------------\")\n",
    "print(\"KNN Basic                 \",df_knn[df_knn.Iu < 18].err.mean())\n",
    "print(\"SVD                       \", df_svd[df_svd.Iu < 18].err.mean())\n",
    "print(\"SVDpp                     \",  df_svdpp[df_svdpp.Iu < 18].err.mean())\n",
    "print(\"KNN Baseline (item-item)  \", df_knnbaseline[df_knnbaseline.Iu < 18].err.mean())\n",
    "print(\"BaselineOnly              \",df_baselineonly[df_baselineonly.Iu < 18].err.mean() )\n",
    "print(\"KNN Baseline (user-user)  \",df_knn_user[df_knn_user.Iu < 18].err.mean() )"
   ]
  },
  {
   "cell_type": "code",
   "execution_count": 26,
   "id": "b0154c9e-58b5-4117-8fdc-43bf41788189",
   "metadata": {},
   "outputs": [
    {
     "name": "stdout",
     "output_type": "stream",
     "text": [
      "--------------------------RMSE-----------------------\n",
      "KNN Basic                 1.1314625487445116\n",
      "SVD                       1.014166885413943\n",
      "SVDpp                     0.9866917408413298\n",
      "KNN Baseline (item-item)  1.0235535421728008\n",
      "BaselineOnly              1.0290179273136122\n",
      "KNN Baseline (user-user)  1.0451593116040523\n"
     ]
    }
   ],
   "source": [
    "print(\"--------------------------RMSE-----------------------\")\n",
    "print(\"KNN Basic                \",df_knn[df_knn.Iu < 18].sqr_err.mean()** .5)\n",
    "print(\"SVD                      \", df_svd[df_svd.Iu < 18].sqr_err.mean()** .5)\n",
    "print(\"SVDpp                    \",  df_svdpp[df_svdpp.Iu < 18].sqr_err.mean()** .5)\n",
    "print(\"KNN Baseline (item-item) \", df_knnbaseline[df_knnbaseline.Iu < 18].sqr_err.mean()** .5)\n",
    "print(\"BaselineOnly             \",df_baselineonly[df_baselineonly.Iu < 18].sqr_err.mean()** .5 )\n",
    "print(\"KNN Baseline (user-user) \",df_knn_user[df_knn_user.Iu < 18].sqr_err.mean()** .5)"
   ]
  },
  {
   "cell_type": "code",
   "execution_count": 27,
   "id": "e7a213b6-d20e-4046-b1a1-33e9f1ec95ca",
   "metadata": {},
   "outputs": [
    {
     "name": "stdout",
     "output_type": "stream",
     "text": [
      "--------------------------MAE-----------------------\n",
      "KNN Basic                  0.6770059296849504\n",
      "SVD                        0.5946544077399245\n",
      "SVDpp                      0.5600646224501096\n",
      "KNN Baseline (item-item)   0.5936789032801404\n",
      "BaselineOnly               0.5912259768198899\n",
      "KNN Baseline (user-user)   0.5537933404473195\n"
     ]
    }
   ],
   "source": [
    "print(\"--------------------------MAE-----------------------\")\n",
    "print(\"KNN Basic                 \",df_knn[df_knn.Iu > 1000].err.mean())\n",
    "print(\"SVD                       \", df_svd[df_svd.Iu > 1000].err.mean())\n",
    "print(\"SVDpp                     \",  df_svdpp[df_svdpp.Iu > 1000].err.mean())\n",
    "print(\"KNN Baseline (item-item)  \", df_knnbaseline[df_knnbaseline.Iu > 1000].err.mean())\n",
    "print(\"BaselineOnly              \",df_baselineonly[df_baselineonly.Iu > 1000].err.mean() )\n",
    "print(\"KNN Baseline (user-user)  \",df_knn_user[df_knn_user.Iu > 1000].err.mean() )"
   ]
  },
  {
   "cell_type": "code",
   "execution_count": 28,
   "id": "454c2d53-67d7-4b15-af7b-4833765b69c6",
   "metadata": {},
   "outputs": [
    {
     "name": "stdout",
     "output_type": "stream",
     "text": [
      "--------------------------RMSE-----------------------\n",
      "KNN Basic                 0.863920188096423\n",
      "SVD                       0.7570413461300195\n",
      "SVDpp                     0.7186015351292833\n",
      "KNN Baseline (item-item)  0.7592298107731127\n",
      "BaselineOnly              0.7485422640757043\n",
      "KNN Baseline (user-user)  0.7138672413993307\n"
     ]
    }
   ],
   "source": [
    "print(\"--------------------------RMSE-----------------------\")\n",
    "print(\"KNN Basic                \",df_knn[df_knn.Iu > 1000].sqr_err.mean()** .5)\n",
    "print(\"SVD                      \", df_svd[df_svd.Iu > 1000].sqr_err.mean()** .5)\n",
    "print(\"SVDpp                    \",  df_svdpp[df_svdpp.Iu > 1000].sqr_err.mean()** .5)\n",
    "print(\"KNN Baseline (item-item) \", df_knnbaseline[df_knnbaseline.Iu > 1000].sqr_err.mean()** .5)\n",
    "print(\"BaselineOnly             \",df_baselineonly[df_baselineonly.Iu > 1000].sqr_err.mean()** .5 )\n",
    "print(\"KNN Baseline (user-user) \",df_knn_user[df_knn_user.Iu > 1000].sqr_err.mean()** .5)"
   ]
  },
  {
   "cell_type": "code",
   "execution_count": 29,
   "id": "739f5ce5-46aa-4777-9686-fe4a84b1fcc2",
   "metadata": {},
   "outputs": [
    {
     "data": {
      "text/plain": [
       "1269"
      ]
     },
     "execution_count": 29,
     "metadata": {},
     "output_type": "execute_result"
    }
   ],
   "source": [
    "iid_df = traindf.groupby(['userId'],as_index=False).movieId.count()\n",
    "iid_df.movieId.max()"
   ]
  }
 ],
 "metadata": {
  "kernelspec": {
   "display_name": "Python 3 (ipykernel)",
   "language": "python",
   "name": "python3"
  },
  "language_info": {
   "codemirror_mode": {
    "name": "ipython",
    "version": 3
   },
   "file_extension": ".py",
   "mimetype": "text/x-python",
   "name": "python",
   "nbconvert_exporter": "python",
   "pygments_lexer": "ipython3",
   "version": "3.10.12"
  }
 },
 "nbformat": 4,
 "nbformat_minor": 5
}
