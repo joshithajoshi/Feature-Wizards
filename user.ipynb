{
 "cells": [
  {
   "cell_type": "code",
   "execution_count": 1,
   "id": "7f276397-dc82-4cb8-a737-bfbbce5358c1",
   "metadata": {},
   "outputs": [],
   "source": [
    "import pandas as pd\n",
    "import numpy as np\n",
    "from surprise import SVD, BaselineOnly, SVDpp, NMF, SlopeOne, CoClustering, Reader\n",
    "from surprise import Dataset\n",
    "from surprise.model_selection import cross_validate\n",
    "from surprise.prediction_algorithms import KNNBaseline, KNNBasic, KNNWithMeans, KNNWithZScore\n",
    "from surprise import accuracy\n",
    "from surprise.model_selection import train_test_split\n",
    "from surprise import dump\n",
    "from sklearn.feature_extraction.text import TfidfVectorizer, CountVectorizer\n",
    "from sklearn.metrics.pairwise import linear_kernel, cosine_similarity"
   ]
  },
  {
   "cell_type": "code",
   "execution_count": 2,
   "id": "a89216af-db34-4b6c-bd29-a37328579167",
   "metadata": {},
   "outputs": [],
   "source": [
    "def convert_traintest_dataframe_forsurprise(training_dataframe, testing_dataframe):\n",
    "    reader = Reader(rating_scale=(0, 5))\n",
    "    trainset = Dataset.load_from_df(training_dataframe[['userId', 'movieId', 'rating']], reader)\n",
    "    testset = Dataset.load_from_df(testing_dataframe[['userId', 'movieId', 'rating']], reader)\n",
    "    trainset = trainset.construct_trainset(trainset.raw_ratings)\n",
    "    testset = testset.construct_testset(testset.raw_ratings)\n",
    "    return trainset, testset"
   ]
  },
  {
   "cell_type": "code",
   "execution_count": 3,
   "id": "f7bdf060-7ed5-45b4-b844-c3c4f74f0af3",
   "metadata": {},
   "outputs": [],
   "source": [
    "file_path_train = './data/train.csv'\n",
    "file_path_test = './data/test.csv'\n",
    "traindf = pd.read_csv(file_path_train)\n",
    "testdf = pd.read_csv(file_path_test)\n",
    "trainset, testset = convert_traintest_dataframe_forsurprise(traindf, testdf)"
   ]
  },
  {
   "cell_type": "code",
   "execution_count": 4,
   "id": "07d72f3a-4162-4b22-9612-2fe44b22b0ef",
   "metadata": {},
   "outputs": [
    {
     "name": "stdout",
     "output_type": "stream",
     "text": [
      "Estimating biases using als...\n",
      "Computing the cosine similarity matrix...\n",
      "Done computing similarity matrix.\n",
      "Estimating biases using als...\n"
     ]
    },
    {
     "data": {
      "text/plain": [
       "<surprise.prediction_algorithms.baseline_only.BaselineOnly at 0x7fa3ca3431c0>"
      ]
     },
     "execution_count": 4,
     "metadata": {},
     "output_type": "execute_result"
    }
   ],
   "source": [
    "sim_options = {'name': 'cosine',\n",
    "               'user_based': False\n",
    "               }\n",
    "knnbaseline_algo = KNNBaseline(sim_options=sim_options)\n",
    "knnbaseline_algo.fit(trainset)\n",
    "\n",
    "svd_algo = SVD()\n",
    "svd_algo.fit(trainset)\n",
    "\n",
    "svdpp_algo = SVDpp()\n",
    "svdpp_algo.fit(trainset)\n",
    "\n",
    "slopeone_algo = SlopeOne()\n",
    "slopeone_algo.fit(trainset)\n",
    "\n",
    "baseline_algo = BaselineOnly()\n",
    "baseline_algo.fit(trainset)"
   ]
  },
  {
   "cell_type": "code",
   "execution_count": 5,
   "id": "3631d6c4-f1f6-4f3e-9840-776b7f8e6e26",
   "metadata": {},
   "outputs": [],
   "source": [
    "movies = pd.read_csv(\"./data/movies_tmdb.csv\")"
   ]
  },
  {
   "cell_type": "code",
   "execution_count": 6,
   "id": "92fd20bb-51d6-43d6-b10f-f844fcd20d3f",
   "metadata": {},
   "outputs": [],
   "source": [
    "genre_to_idx = {'Adventure': 0,\n",
    " 'Animation': 1,\n",
    " 'Children': 2,\n",
    " 'Comedy': 3,\n",
    " 'Fantasy': 4,\n",
    " 'Romance': 5,\n",
    " 'Drama': 6,\n",
    " 'Action': 7,\n",
    " 'Crime': 8,\n",
    " 'Thriller': 9,\n",
    " 'Horror': 10,\n",
    " 'Mystery': 11,\n",
    " 'Sci-Fi': 12,\n",
    " 'War': 13,\n",
    " 'Musical': 14,\n",
    " 'Documentary': 15,\n",
    " 'IMAX': 16,\n",
    " 'Western': 17,\n",
    " 'Film-Noir': 18,\n",
    " '(no genres listed)': 19}\n",
    "\n",
    "idx_to_genre = {0: 'Adventure',\n",
    " 1: 'Animation',\n",
    " 2: 'Children',\n",
    " 3: 'Comedy',\n",
    " 4: 'Fantasy',\n",
    " 5: 'Romance',\n",
    " 6: 'Drama',\n",
    " 7: 'Action',\n",
    " 8: 'Crime',\n",
    " 9: 'Thriller',\n",
    " 10: 'Horror',\n",
    " 11: 'Mystery',\n",
    " 12: 'Sci-Fi',\n",
    " 13: 'War',\n",
    " 14: 'Musical',\n",
    " 15: 'Documentary',\n",
    " 16: 'IMAX',\n",
    " 17: 'Western',\n",
    " 18: 'Film-Noir',\n",
    " 19: '(no genres listed)'}"
   ]
  },
  {
   "cell_type": "code",
   "execution_count": 7,
   "id": "059e0ac8-b305-40f6-80bd-f777428616de",
   "metadata": {},
   "outputs": [],
   "source": [
    "movies['description_genre'] = movies['overview'] + 2*movies['genres']\n",
    "movies['description_genre'] = movies['description_genre'].fillna('')\n",
    "\n",
    "tf_new = TfidfVectorizer(analyzer='word', ngram_range=(1, 2), min_df=1, stop_words='english')\n",
    "tfidf_matrix_new = tf_new.fit_transform(movies['description_genre'])\n",
    "\n",
    "cosine_sim_new = linear_kernel(tfidf_matrix_new, tfidf_matrix_new)"
   ]
  },
  {
   "cell_type": "code",
   "execution_count": 8,
   "id": "becc3924-4482-4bd3-8027-199f87302c1a",
   "metadata": {},
   "outputs": [],
   "source": [
    "movies = movies.reset_index()\n",
    "titles = movies['title']\n",
    "indices = pd.Series(movies.index, index=movies['title'])\n",
    "\n",
    "def get_recommendations_new(title):\n",
    "    idx = indices[title]\n",
    "    if type(idx) != np.int64:\n",
    "        if len(idx)>1:\n",
    "            print(\"ALERT: Multiple values\")\n",
    "            idx = idx[0]\n",
    "    sim_scores = list(enumerate(cosine_sim_new[idx]))\n",
    "    sim_scores = sorted(sim_scores, key=lambda x: x[1], reverse=True)\n",
    "    sim_scores = sim_scores[1:11]\n",
    "    movie_indices = [i[0] for i in sim_scores]\n",
    "    return movies['movieId'].iloc[movie_indices]\n",
    "\n",
    "def genre_based_popularity(genre):\n",
    "    mask = movies.genres.apply(lambda x: genre in x)\n",
    "    filtered_movie = movies[mask]\n",
    "    filtered_movie = filtered_movie.sort_values(by='popularity', ascending=False)\n",
    "    return filtered_movie['movieId'].head(10).values.tolist()"
   ]
  },
  {
   "cell_type": "code",
   "execution_count": 9,
   "id": "1d34e938-333b-41c8-9050-29fc9af9f746",
   "metadata": {},
   "outputs": [],
   "source": [
    "user_info = pd.read_csv('./data/user_info.csv')\n",
    "\n",
    "user_info['user_vector'] = user_info['user_vector'].apply(lambda x: x.replace('[', ' ').replace(']', ' ').strip().split())\n",
    "user_info['user_vector'] = user_info['user_vector'].apply(lambda x: np.asarray(x).astype(float))\n",
    "\n",
    "def user_top_genre(userId):\n",
    "    user_vec = user_info['user_vector'][user_info['userId'] == userId].values[0].copy()\n",
    "    top_genre_indices = np.flip(np.argsort(user_vec))\n",
    "    genre_list = []\n",
    "    for i in top_genre_indices[:3]:\n",
    "        genre_list.append(idx_to_genre[i])\n",
    "    return genre_list\n",
    "\n"
   ]
  },
  {
   "cell_type": "code",
   "execution_count": 10,
   "id": "ff28929e-b66c-4bc7-a9c6-6e10d9602465",
   "metadata": {},
   "outputs": [],
   "source": [
    "user_list = testdf['userId'].unique()\n",
    "svd_wt = 1.504\n",
    "knn_wt = 0.712\n",
    "svdpp_wt = 0.08\n",
    "slopeone_wt = 0.88\n",
    "baseline_wt = -2.53\n",
    "\n",
    "def hybrid(userId):\n",
    "    user_movies = testdf[testdf['userId'] == userId]\n",
    "    user_movies['est'] = user_movies['movieId'].apply(lambda x: knn_wt*knnbaseline_algo.predict(userId, x).est + svdpp_wt*svdpp_algo.predict(userId, x).est\\\n",
    "              + svd_wt*svd_algo.predict(userId, x).est + baseline_wt*baseline_algo.predict(userId, x).est\\\n",
    "                +slopeone_wt*slopeone_algo.predict(userId,x).est)    \n",
    "    user_movies = user_movies.sort_values(by ='est', ascending=False).head(4)\n",
    "    user_movies['Model'] = 'SVD + CF'\n",
    "    \n",
    "    recommend_list = user_movies[['movieId', 'est', 'Model']]\n",
    "    \n",
    "    movie_list = recommend_list['movieId'].values.tolist()\n",
    "    print(movie_list)\n",
    "    sim_movies_list = []\n",
    "    for movie_id in movie_list:\n",
    "        # Call content based \n",
    "        movie_title = movies['title'][movies['movieId'] == movie_id].values[0]\n",
    "        sim_movies = get_recommendations_new(movie_title)\n",
    "        sim_movies_list.extend(sim_movies)\n",
    "        \n",
    "    for movie_id in sim_movies_list:\n",
    "        pred_rating = knn_wt*knnbaseline_algo.predict(userId, movie_id).est + svdpp_wt*svdpp_algo.predict(userId, movie_id).est\\\n",
    "              + svd_wt*svd_algo.predict(userId, movie_id).est + baseline_wt*baseline_algo.predict(userId, movie_id).est\\\n",
    "                +slopeone_wt*slopeone_algo.predict(userId,movie_id).est\n",
    "        row_df = pd.DataFrame([[movie_id, pred_rating, 'Movie similarity']], columns=['movieId', 'est','Model'])\n",
    "        recommend_list = pd.concat([recommend_list, row_df], ignore_index=True)\n",
    "    \n",
    "    # Popular based movies\n",
    "    top_genre_list = user_top_genre(userId)\n",
    "    \n",
    "    popular_movies = []\n",
    "    for top_genre in top_genre_list:\n",
    "        popular_movies.extend(genre_based_popularity(top_genre))\n",
    "    \n",
    "    # Compute ratings for the popular movies\n",
    "    for movie_id in popular_movies:\n",
    "        pred_rating = knn_wt*knnbaseline_algo.predict(userId, movie_id).est + svdpp_wt*svdpp_algo.predict(userId, movie_id).est\\\n",
    "              + svd_wt*svd_algo.predict(userId, movie_id).est + baseline_wt*baseline_algo.predict(userId, movie_id).est\\\n",
    "                +slopeone_wt*slopeone_algo.predict(userId,movie_id).est\n",
    "        row_df = pd.DataFrame([[movie_id, pred_rating, 'Popularity']], columns=['movieId', 'est','Model'])\n",
    "        recommend_list = pd.concat([recommend_list, row_df], ignore_index=True)\n",
    "    recommend_list = recommend_list.drop_duplicates(subset=['movieId'])\n",
    "    train_movie_list = traindf[traindf['userId']==userId]['movieId'].values.tolist()\n",
    "    \n",
    "    # Remove movies in training for this user\n",
    "    mask = recommend_list.movieId.apply(lambda x: x not in train_movie_list)\n",
    "    recommend_list = recommend_list[mask]\n",
    "    \n",
    "    return recommend_list"
   ]
  },
  {
   "cell_type": "code",
   "execution_count": 11,
   "id": "be5aa674-fe14-4ae6-b476-6427afa8cfe4",
   "metadata": {},
   "outputs": [],
   "source": [
    "def get_title(x):\n",
    "    mid = x['movieId']\n",
    "    return movies['title'][movies['movieId'] == mid].values\n",
    "\n",
    "def get_genre(x):\n",
    "    mid = x['movieId']\n",
    "    return movies['genres'][movies['movieId'] == mid].values"
   ]
  },
  {
   "cell_type": "code",
   "execution_count": 12,
   "id": "15a98936-b74c-4155-8a2b-a153bee9c77a",
   "metadata": {},
   "outputs": [
    {
     "name": "stdout",
     "output_type": "stream",
     "text": [
      "[2028, 151, 1517, 553]\n",
      "    movieId       est             Model                          title  \\\n",
      "38     3494  3.912991  Movie similarity                    [True Grit]   \n",
      "39     1283  3.807303  Movie similarity                    [High Noon]   \n",
      "64    79702  3.665759        Popularity  [Scott Pilgrim vs. the World]   \n",
      "65    81847  3.639001        Popularity                      [Tangled]   \n",
      "0      2028  3.582133          SVD + CF          [Saving Private Ryan]   \n",
      "49     1252  3.580368        Popularity                    [Chinatown]   \n",
      "51     1748  3.547329        Popularity                    [Dark City]   \n",
      "20     2067  3.529240  Movie similarity               [Doctor Zhivago]   \n",
      "43    54997  3.480683  Movie similarity                 [3:10 to Yuma]   \n",
      "53     1245  3.472763        Popularity            [Miller's Crossing]   \n",
      "\n",
      "                                                genre  \n",
      "38                [['Adventure', 'Drama', 'Western']]  \n",
      "39                             [['Drama', 'Western']]  \n",
      "64  [['Action', 'Comedy', 'Fantasy', 'Musical', 'R...  \n",
      "65  [['Animation', 'Children', 'Comedy', 'Fantasy'...  \n",
      "0                        [['Action', 'Drama', 'War']]  \n",
      "49    [['Crime', 'Film-Noir', 'Mystery', 'Thriller']]  \n",
      "51  [['Adventure', 'Film-Noir', 'Sci-Fi', 'Thrille...  \n",
      "20                      [['Drama', 'Romance', 'War']]  \n",
      "43          [['Action', 'Crime', 'Drama', 'Western']]  \n",
      "53      [['Crime', 'Drama', 'Film-Noir', 'Thriller']]  \n"
     ]
    },
    {
     "name": "stderr",
     "output_type": "stream",
     "text": [
      "/tmp/ipykernel_3869/3458373577.py:10: SettingWithCopyWarning: \n",
      "A value is trying to be set on a copy of a slice from a DataFrame.\n",
      "Try using .loc[row_indexer,col_indexer] = value instead\n",
      "\n",
      "See the caveats in the documentation: https://pandas.pydata.org/pandas-docs/stable/user_guide/indexing.html#returning-a-view-versus-a-copy\n",
      "  user_movies['est'] = user_movies['movieId'].apply(lambda x: knn_wt*knnbaseline_algo.predict(userId, x).est + svdpp_wt*svdpp_algo.predict(userId, x).est\\\n"
     ]
    }
   ],
   "source": [
    "movie_ids = hybrid(1)\n",
    "movie_ids['title'] = movie_ids.apply(get_title,axis=1)\n",
    "movie_ids['genre'] = movie_ids.apply(get_genre,axis=1)\n",
    "print(movie_ids.sort_values(by='est', ascending = False).head(10))"
   ]
  },
  {
   "cell_type": "code",
   "execution_count": 13,
   "id": "0870c869",
   "metadata": {},
   "outputs": [
    {
     "name": "stderr",
     "output_type": "stream",
     "text": [
      "/tmp/ipykernel_3869/3458373577.py:10: SettingWithCopyWarning: \n",
      "A value is trying to be set on a copy of a slice from a DataFrame.\n",
      "Try using .loc[row_indexer,col_indexer] = value instead\n",
      "\n",
      "See the caveats in the documentation: https://pandas.pydata.org/pandas-docs/stable/user_guide/indexing.html#returning-a-view-versus-a-copy\n",
      "  user_movies['est'] = user_movies['movieId'].apply(lambda x: knn_wt*knnbaseline_algo.predict(userId, x).est + svdpp_wt*svdpp_algo.predict(userId, x).est\\\n"
     ]
    },
    {
     "name": "stdout",
     "output_type": "stream",
     "text": [
      "[70946, 914, 2018, 4518]\n",
      "         est             Model                                     title\n",
      "39  1.832586  Movie similarity                        [My Name Is Bruce]\n",
      "37  1.832586  Movie similarity          [Beyond the Valley of the Dolls]\n",
      "25  1.832586  Movie similarity  [Little Nemo: Adventures in Slumberland]\n",
      "20  1.832586  Movie similarity                           [Sweet Charity]\n",
      "51  0.963071        Popularity                      [Mad Max: Fury Road]\n",
      "0   0.883210          SVD + CF                                 [Troll 2]\n",
      "38  0.819171  Movie similarity               [What We Do in the Shadows]\n",
      "1   0.562931          SVD + CF                            [My Fair Lady]\n",
      "6   0.478125  Movie similarity                     [Blood and Chocolate]\n",
      "36  0.404931  Movie similarity                  [Class of Nuke 'Em High]\n"
     ]
    }
   ],
   "source": [
    "movie_ids = hybrid(3)\n",
    "movie_ids['title'] = movie_ids.apply(get_title, axis=1)\n",
    "movie_ids['genre'] = movie_ids.apply(get_genre, axis=1)\n",
    "print(movie_ids.sort_values(by='est', ascending = False)[['est','Model','title']].head(10))"
   ]
  },
  {
   "cell_type": "code",
   "execution_count": 14,
   "id": "efbab2d6-1241-4b01-90f0-8ce1feef9202",
   "metadata": {},
   "outputs": [
    {
     "name": "stdout",
     "output_type": "stream",
     "text": [
      "Running on local URL:  http://127.0.0.1:7861\n",
      "\n",
      "To create a public link, set `share=True` in `launch()`.\n"
     ]
    },
    {
     "data": {
      "text/html": [
       "<div><iframe src=\"http://127.0.0.1:7861/\" width=\"100%\" height=\"500\" allow=\"autoplay; camera; microphone; clipboard-read; clipboard-write;\" frameborder=\"0\" allowfullscreen></iframe></div>"
      ],
      "text/plain": [
       "<IPython.core.display.HTML object>"
      ]
     },
     "metadata": {},
     "output_type": "display_data"
    },
    {
     "data": {
      "text/plain": []
     },
     "execution_count": 14,
     "metadata": {},
     "output_type": "execute_result"
    },
    {
     "name": "stderr",
     "output_type": "stream",
     "text": [
      "/tmp/ipykernel_3869/3458373577.py:10: SettingWithCopyWarning: \n",
      "A value is trying to be set on a copy of a slice from a DataFrame.\n",
      "Try using .loc[row_indexer,col_indexer] = value instead\n",
      "\n",
      "See the caveats in the documentation: https://pandas.pydata.org/pandas-docs/stable/user_guide/indexing.html#returning-a-view-versus-a-copy\n",
      "  user_movies['est'] = user_movies['movieId'].apply(lambda x: knn_wt*knnbaseline_algo.predict(userId, x).est + svdpp_wt*svdpp_algo.predict(userId, x).est\\\n"
     ]
    },
    {
     "name": "stdout",
     "output_type": "stream",
     "text": [
      "[70946, 914, 2018, 4518]\n",
      "[2028, 151, 1517, 553]\n",
      "[356, 4306, 5816, 33794]\n"
     ]
    }
   ],
   "source": [
    "import gradio as gr\n",
    "\n",
    "def prediction(text):\n",
    "    movie_ids = hybrid(text)\n",
    "    movie_ids['title'] = movie_ids.apply(get_title, axis=1)\n",
    "    movie_ids['genre'] = movie_ids.apply(get_genre, axis=1)\n",
    "    # Use extend to concatenate lists\n",
    "    movie_ids_list = []\n",
    "    movie_ids['title'].head().apply(lambda x: movie_ids_list.extend(x))    \n",
    "    return \", \".join(movie_ids_list)\n",
    "\n",
    "examples = [1]\n",
    "# Define the Gradio interface\n",
    "iface = gr.Interface(fn=prediction, inputs=\"number\", outputs=\"text\", examples=examples)\n",
    "# Launch the Gradio interface\n",
    "iface.launch()\n"
   ]
  },
  {
   "cell_type": "code",
   "execution_count": null,
   "id": "2bb605b1-3996-46b9-8663-c767e47aa81d",
   "metadata": {},
   "outputs": [],
   "source": []
  }
 ],
 "metadata": {
  "kernelspec": {
   "display_name": "Python 3 (ipykernel)",
   "language": "python",
   "name": "python3"
  },
  "language_info": {
   "codemirror_mode": {
    "name": "ipython",
    "version": 3
   },
   "file_extension": ".py",
   "mimetype": "text/x-python",
   "name": "python",
   "nbconvert_exporter": "python",
   "pygments_lexer": "ipython3",
   "version": "3.10.12"
  }
 },
 "nbformat": 4,
 "nbformat_minor": 5
}
