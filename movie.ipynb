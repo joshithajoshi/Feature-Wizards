{
 "cells": [
  {
   "cell_type": "code",
   "execution_count": 1,
   "id": "7b48d910-1c77-41e0-912e-2784946fa219",
   "metadata": {},
   "outputs": [],
   "source": [
    "import numpy as np\n",
    "import pandas as pd\n",
    "import matplotlib.pyplot as plt\n",
    "from ast import literal_eval\n",
    "from sklearn.feature_extraction.text import TfidfVectorizer, CountVectorizer\n",
    "from sklearn.metrics.pairwise import linear_kernel, cosine_similarity"
   ]
  },
  {
   "cell_type": "code",
   "execution_count": 2,
   "id": "5ab0c02a-afa3-40f2-a367-f4cc9c95d1e1",
   "metadata": {},
   "outputs": [
    {
     "name": "stdout",
     "output_type": "stream",
     "text": [
      "(4485, 113624)\n",
      "Recomendations Based on overview for movie Doctor Who: Last Christmas\n",
      "2489                Silent Night, Deadly Night\n",
      "911                     Santa Claus: The Movie\n",
      "120                     Miracle on 34th Street\n",
      "121                     Miracle on 34th Street\n",
      "3474                          Arthur Christmas\n",
      "2855           How the Grinch Stole Christmas!\n",
      "1624                    Ernest Saves Christmas\n",
      "1                                      Jumanji\n",
      "2393                                    Taxi 3\n",
      "4203    Doctor Who: The Husbands of River Song\n",
      "Name: title, dtype: object\n"
     ]
    }
   ],
   "source": [
    "movies = pd.read_csv(\"./data/movies_tmdb.csv\")\n",
    "\n",
    "movies['description'] = movies['overview'].fillna('')\n",
    "\n",
    "tf = TfidfVectorizer(analyzer='word', ngram_range=(1, 2), stop_words='english', min_df=1)\n",
    "tfidf_matrix = tf.fit_transform(movies['description'])\n",
    "\n",
    "print(tfidf_matrix.shape)\n",
    "\n",
    "cosine_sim = linear_kernel(tfidf_matrix, tfidf_matrix)\n",
    "\n",
    "movies = movies.reset_index()\n",
    "titles = movies['title']\n",
    "indices = pd.Series(movies.index, index=movies['title'])\n",
    "\n",
    "def get_recommendations(title):\n",
    "    idx = indices[title]\n",
    "    if type(idx) != np.int64:\n",
    "        if len(idx)>1:\n",
    "            print(\"ALERT: Multiple values\")\n",
    "            idx = idx[0]\n",
    "    sim_scores = list(enumerate(cosine_sim[idx]))\n",
    "    sim_scores = sorted(sim_scores, key=lambda x: x[1], reverse=True)\n",
    "    sim_scores = sim_scores[1:31]\n",
    "    movie_indices = [i[0] for i in sim_scores]\n",
    "    return titles.iloc[movie_indices]\n",
    "\n",
    "print(\"Recomendations Based on overview for movie Doctor Who: Last Christmas\")\n",
    "print(get_recommendations('Doctor Who: Last Christmas').head(10))"
   ]
  },
  {
   "cell_type": "code",
   "execution_count": 3,
   "id": "a5226088-0106-4bc1-8b2d-01640013c79f",
   "metadata": {},
   "outputs": [
    {
     "name": "stdout",
     "output_type": "stream",
     "text": [
      "Recomendations Based on overview and genre for movie Doctor Who: Last Christmas\n",
      "4188    Wizards of Waverly Place: The Movie\n",
      "3614              It's Such a Beautiful Day\n",
      "4460                      A Wrinkle in Time\n",
      "1554                                  Krull\n",
      "3122    The Butterfly Effect 3: Revelations\n",
      "3943                      X-Men: Apocalypse\n",
      "4326           Rogue One: A Star Wars Story\n",
      "1146               Pokémon: The First Movie\n",
      "769                Honey, I Shrunk the Kids\n",
      "3987               Marvel One-Shot: Item 47\n",
      "Name: title, dtype: object\n"
     ]
    }
   ],
   "source": [
    "popularity_df = movies[['popularity', 'vote_average', 'vote_count']]\n",
    "\n",
    "movies['description_genre'] = movies['overview'] + 2*movies['genres']\n",
    "movies['description_genre'] = movies['description_genre'].fillna('')\n",
    "\n",
    "tf_new = TfidfVectorizer(analyzer='word', ngram_range=(1, 2), min_df=1, stop_words='english')\n",
    "tfidf_matrix_new = tf_new.fit_transform(movies['description_genre'])\n",
    "\n",
    "cosine_sim_new = linear_kernel(tfidf_matrix_new, tfidf_matrix_new)\n",
    "\n",
    "movies = movies.reset_index()\n",
    "titles = movies['title']\n",
    "indices = pd.Series(movies.index, index=movies['title'])\n",
    "indices.head(2)\n",
    "\n",
    "def get_recommendations_new(title):\n",
    "    idx = indices[title]\n",
    "    if type(idx) != np.int64:\n",
    "        if len(idx)>1:\n",
    "            print(\"ALERT: Multiple values\")\n",
    "            idx = idx[0]\n",
    "    sim_scores = list(enumerate(cosine_sim_new[idx]))\n",
    "    sim_scores = sorted(sim_scores, key=lambda x: x[1], reverse=True)\n",
    "    sim_scores = sim_scores[1:31]\n",
    "    movie_indices = [i[0] for i in sim_scores]\n",
    "    return titles.iloc[movie_indices]\n",
    "print(\"Recomendations Based on overview and genre for movie Doctor Who: Last Christmas\")\n",
    "print(get_recommendations_new('Doctor Who: Last Christmas').head(10))"
   ]
  },
  {
   "cell_type": "code",
   "execution_count": 4,
   "id": "03400bde-777d-4f6b-8f93-4d6aecbacb44",
   "metadata": {},
   "outputs": [
    {
     "name": "stdout",
     "output_type": "stream",
     "text": [
      "Recomendations Based on weighted rating, overview and genre for movie Doctor Who: Last Christmas\n",
      "4326          Rogue One: A Star Wars Story\n",
      "757                                   Dune\n",
      "3287                            Mr. Nobody\n",
      "1274    Close Encounters of the Third Kind\n",
      "1736                                 K-PAX\n",
      "769               Honey, I Shrunk the Kids\n",
      "3943                     X-Men: Apocalypse\n",
      "3660                          Man of Steel\n",
      "4429              Star Wars: The Last Jedi\n",
      "4460                     A Wrinkle in Time\n",
      "Name: title, dtype: object\n"
     ]
    },
    {
     "name": "stderr",
     "output_type": "stream",
     "text": [
      "/usr/lib/python3/dist-packages/pandas/core/indexing.py:1667: SettingWithCopyWarning: \n",
      "A value is trying to be set on a copy of a slice from a DataFrame.\n",
      "Try using .loc[row_indexer,col_indexer] = value instead\n",
      "\n",
      "See the caveats in the documentation: https://pandas.pydata.org/pandas-docs/stable/user_guide/indexing.html#returning-a-view-versus-a-copy\n",
      "  self.obj[key] = value\n"
     ]
    }
   ],
   "source": [
    "vote_counts = movies[movies['vote_count'].notnull()]['vote_count'].astype('int')\n",
    "vote_averages = movies[movies['vote_average'].notnull()]['vote_average'].astype('int')\n",
    "C = vote_averages.mean()\n",
    "\n",
    "m = vote_counts.quantile(0.95)\n",
    "\n",
    "def weighted_rating(x):\n",
    "    v = int(x['vote_count'])\n",
    "    R = int(x['vote_average'])\n",
    "    return (v/(v+m) * R) + (m/(m+v) * C)\n",
    "\n",
    "def improved_recommendations(title):\n",
    "    idx = indices[title]\n",
    "    sim_scores = list(enumerate(cosine_sim_new[idx]))\n",
    "    sim_scores = sorted(sim_scores, key=lambda x: x[1], reverse=True)\n",
    "    sim_scores = sim_scores[1:26]\n",
    "    movie_indices = [i[0] for i in sim_scores]\n",
    "    \n",
    "    movies_x = movies.iloc[movie_indices][['title', 'vote_count', 'vote_average']]\n",
    "    vote_counts = movies_x[movies_x['vote_count'].notnull()]['vote_count'].astype('int')\n",
    "    vote_averages = movies_x[movies_x['vote_average'].notnull()]['vote_average'].astype('int')\n",
    "    C = vote_averages.mean()\n",
    "    m = vote_counts.quantile(0.60)\n",
    "    qualified = movies_x[(movies_x['vote_count'] >= m) & (movies_x['vote_count'].notnull()) &\n",
    "                       (movies_x['vote_average'].notnull())]\n",
    "    qualified.loc[:, 'wr'] = qualified.apply(weighted_rating, axis=1)\n",
    "    qualified = qualified.sort_values('wr', ascending=False).head(10)\n",
    "    return qualified\n",
    "\n",
    "print(\"Recomendations Based on weighted rating, overview and genre for movie Doctor Who: Last Christmas\")\n",
    "print(improved_recommendations('Doctor Who: Last Christmas')['title'].head(10))"
   ]
  },
  {
   "cell_type": "code",
   "execution_count": 5,
   "id": "0fae8020-32fa-42bb-a4fe-5c51b82d8e77",
   "metadata": {
    "scrolled": true
   },
   "outputs": [
    {
     "name": "stdout",
     "output_type": "stream",
     "text": [
      "Running on local URL:  http://127.0.0.1:7860\n",
      "\n",
      "To create a public link, set `share=True` in `launch()`.\n"
     ]
    },
    {
     "data": {
      "text/html": [
       "<div><iframe src=\"http://127.0.0.1:7860/\" width=\"100%\" height=\"500\" allow=\"autoplay; camera; microphone; clipboard-read; clipboard-write;\" frameborder=\"0\" allowfullscreen></iframe></div>"
      ],
      "text/plain": [
       "<IPython.core.display.HTML object>"
      ]
     },
     "metadata": {},
     "output_type": "display_data"
    },
    {
     "data": {
      "text/plain": []
     },
     "execution_count": 5,
     "metadata": {},
     "output_type": "execute_result"
    },
    {
     "name": "stderr",
     "output_type": "stream",
     "text": [
      "/usr/lib/python3/dist-packages/pandas/core/indexing.py:1667: SettingWithCopyWarning: \n",
      "A value is trying to be set on a copy of a slice from a DataFrame.\n",
      "Try using .loc[row_indexer,col_indexer] = value instead\n",
      "\n",
      "See the caveats in the documentation: https://pandas.pydata.org/pandas-docs/stable/user_guide/indexing.html#returning-a-view-versus-a-copy\n",
      "  self.obj[key] = value\n",
      "Traceback (most recent call last):\n",
      "  File \"/usr/lib/python3/dist-packages/pandas/core/indexes/base.py\", line 3361, in get_loc\n",
      "    return self._engine.get_loc(casted_key)\n",
      "  File \"pandas/_libs/index.pyx\", line 76, in pandas._libs.index.IndexEngine.get_loc\n",
      "  File \"pandas/_libs/index.pyx\", line 103, in pandas._libs.index.IndexEngine.get_loc\n",
      "  File \"pandas/_libs/index.pyx\", line 135, in pandas._libs.index.IndexEngine._get_loc_duplicates\n",
      "  File \"pandas/_libs/index.pyx\", line 143, in pandas._libs.index.IndexEngine._maybe_get_bool_indexer\n",
      "  File \"pandas/_libs/index.pyx\", line 161, in pandas._libs.index.IndexEngine._unpack_bool_indexer\n",
      "KeyError: 'Star Wars'\n",
      "\n",
      "The above exception was the direct cause of the following exception:\n",
      "\n",
      "Traceback (most recent call last):\n",
      "  File \"/home/joshh/.local/lib/python3.10/site-packages/gradio/queueing.py\", line 456, in call_prediction\n",
      "    output = await route_utils.call_process_api(\n",
      "  File \"/home/joshh/.local/lib/python3.10/site-packages/gradio/route_utils.py\", line 232, in call_process_api\n",
      "    output = await app.get_blocks().process_api(\n",
      "  File \"/home/joshh/.local/lib/python3.10/site-packages/gradio/blocks.py\", line 1522, in process_api\n",
      "    result = await self.call_function(\n",
      "  File \"/home/joshh/.local/lib/python3.10/site-packages/gradio/blocks.py\", line 1144, in call_function\n",
      "    prediction = await anyio.to_thread.run_sync(\n",
      "  File \"/home/joshh/.local/lib/python3.10/site-packages/anyio/to_thread.py\", line 33, in run_sync\n",
      "    return await get_asynclib().run_sync_in_worker_thread(\n",
      "  File \"/home/joshh/.local/lib/python3.10/site-packages/anyio/_backends/_asyncio.py\", line 877, in run_sync_in_worker_thread\n",
      "    return await future\n",
      "  File \"/home/joshh/.local/lib/python3.10/site-packages/anyio/_backends/_asyncio.py\", line 807, in run\n",
      "    result = context.run(func, *args)\n",
      "  File \"/home/joshh/.local/lib/python3.10/site-packages/gradio/utils.py\", line 674, in wrapper\n",
      "    response = f(*args, **kwargs)\n",
      "  File \"/tmp/ipykernel_3673/1279967823.py\", line 3, in prediction\n",
      "    return \", \".join(improved_recommendations(text)['title'].head(10))\n",
      "  File \"/tmp/ipykernel_3673/1669643451.py\", line 13, in improved_recommendations\n",
      "    idx = indices[title]\n",
      "  File \"/usr/lib/python3/dist-packages/pandas/core/series.py\", line 942, in __getitem__\n",
      "    return self._get_value(key)\n",
      "  File \"/usr/lib/python3/dist-packages/pandas/core/series.py\", line 1051, in _get_value\n",
      "    loc = self.index.get_loc(label)\n",
      "  File \"/usr/lib/python3/dist-packages/pandas/core/indexes/base.py\", line 3363, in get_loc\n",
      "    raise KeyError(key) from err\n",
      "KeyError: 'Star Wars'\n",
      "Traceback (most recent call last):\n",
      "  File \"/usr/lib/python3/dist-packages/pandas/core/indexes/base.py\", line 3361, in get_loc\n",
      "    return self._engine.get_loc(casted_key)\n",
      "  File \"pandas/_libs/index.pyx\", line 76, in pandas._libs.index.IndexEngine.get_loc\n",
      "  File \"pandas/_libs/index.pyx\", line 103, in pandas._libs.index.IndexEngine.get_loc\n",
      "  File \"pandas/_libs/index.pyx\", line 135, in pandas._libs.index.IndexEngine._get_loc_duplicates\n",
      "  File \"pandas/_libs/index.pyx\", line 143, in pandas._libs.index.IndexEngine._maybe_get_bool_indexer\n",
      "  File \"pandas/_libs/index.pyx\", line 161, in pandas._libs.index.IndexEngine._unpack_bool_indexer\n",
      "KeyError: 'Star Wars'\n",
      "\n",
      "The above exception was the direct cause of the following exception:\n",
      "\n",
      "Traceback (most recent call last):\n",
      "  File \"/home/joshh/.local/lib/python3.10/site-packages/gradio/queueing.py\", line 456, in call_prediction\n",
      "    output = await route_utils.call_process_api(\n",
      "  File \"/home/joshh/.local/lib/python3.10/site-packages/gradio/route_utils.py\", line 232, in call_process_api\n",
      "    output = await app.get_blocks().process_api(\n",
      "  File \"/home/joshh/.local/lib/python3.10/site-packages/gradio/blocks.py\", line 1522, in process_api\n",
      "    result = await self.call_function(\n",
      "  File \"/home/joshh/.local/lib/python3.10/site-packages/gradio/blocks.py\", line 1144, in call_function\n",
      "    prediction = await anyio.to_thread.run_sync(\n",
      "  File \"/home/joshh/.local/lib/python3.10/site-packages/anyio/to_thread.py\", line 33, in run_sync\n",
      "    return await get_asynclib().run_sync_in_worker_thread(\n",
      "  File \"/home/joshh/.local/lib/python3.10/site-packages/anyio/_backends/_asyncio.py\", line 877, in run_sync_in_worker_thread\n",
      "    return await future\n",
      "  File \"/home/joshh/.local/lib/python3.10/site-packages/anyio/_backends/_asyncio.py\", line 807, in run\n",
      "    result = context.run(func, *args)\n",
      "  File \"/home/joshh/.local/lib/python3.10/site-packages/gradio/utils.py\", line 674, in wrapper\n",
      "    response = f(*args, **kwargs)\n",
      "  File \"/tmp/ipykernel_3673/1279967823.py\", line 3, in prediction\n",
      "    return \", \".join(improved_recommendations(text)['title'].head(10))\n",
      "  File \"/tmp/ipykernel_3673/1669643451.py\", line 13, in improved_recommendations\n",
      "    idx = indices[title]\n",
      "  File \"/usr/lib/python3/dist-packages/pandas/core/series.py\", line 942, in __getitem__\n",
      "    return self._get_value(key)\n",
      "  File \"/usr/lib/python3/dist-packages/pandas/core/series.py\", line 1051, in _get_value\n",
      "    loc = self.index.get_loc(label)\n",
      "  File \"/usr/lib/python3/dist-packages/pandas/core/indexes/base.py\", line 3363, in get_loc\n",
      "    raise KeyError(key) from err\n",
      "KeyError: 'Star Wars'\n",
      "\n",
      "The above exception was the direct cause of the following exception:\n",
      "\n",
      "Traceback (most recent call last):\n",
      "  File \"/home/joshh/.local/lib/python3.10/site-packages/gradio/queueing.py\", line 501, in process_events\n",
      "    response = await self.call_prediction(awake_events, batch)\n",
      "  File \"/home/joshh/.local/lib/python3.10/site-packages/gradio/queueing.py\", line 465, in call_prediction\n",
      "    raise Exception(str(error) if show_error else None) from error\n",
      "Exception: None\n"
     ]
    }
   ],
   "source": [
    "import gradio as gr\n",
    "def prediction(text):\n",
    "    return \", \".join(improved_recommendations(text)['title'].head(10))\n",
    "examples = [\"Avatar\"]\n",
    "\n",
    "# Define the Gradio interface\n",
    "iface = gr.Interface(fn=prediction, inputs=\"text\", outputs=\"text\",examples=examples)\n",
    "# Launch the Gradio interface\n",
    "iface.launch()"
   ]
  },
  {
   "cell_type": "code",
   "execution_count": null,
   "id": "8bce90e5-337e-482f-872a-b1fd3933ab4b",
   "metadata": {},
   "outputs": [],
   "source": []
  }
 ],
 "metadata": {
  "kernelspec": {
   "display_name": "Python 3 (ipykernel)",
   "language": "python",
   "name": "python3"
  },
  "language_info": {
   "codemirror_mode": {
    "name": "ipython",
    "version": 3
   },
   "file_extension": ".py",
   "mimetype": "text/x-python",
   "name": "python",
   "nbconvert_exporter": "python",
   "pygments_lexer": "ipython3",
   "version": "3.10.12"
  }
 },
 "nbformat": 4,
 "nbformat_minor": 5
}
